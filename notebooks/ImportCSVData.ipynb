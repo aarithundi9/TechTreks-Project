{
  "cells": [
    {
      "cell_type": "markdown",
      "metadata": {},
      "source": [
        "\n"
      ]
    },
    {
      "cell_type": "code",
      "execution_count": null,
      "metadata": {},
      "outputs": [
        {
          "name": "stdout",
          "output_type": "stream",
          "text": [
            "Found 0 CSV files:\n"
          ]
        }
      ],
      "source": [
        "# Import necessary libraries\n",
        "import pandas as pd\n",
        "import os\n",
        "from pathlib import Path\n",
        "\n",
        "# Set the data directory path - using absolute path\n",
        "data_dir = Path('/Users/tiamathur/Documents/GitHub/data')\n",
        "\n",
        "# List all CSV files in the data directory\n",
        "csv_files = list(data_dir.glob('*.csv'))\n",
        "print(f\"Found {len(csv_files)} CSV files:\")\n",
        "for file in csv_files:\n",
        "    print(f\"  - {file.name}\")\n"
      ]
    },
    {
      "cell_type": "code",
      "execution_count": 2,
      "metadata": {},
      "outputs": [],
      "source": [
        "# Create separate DataFrames for each CSV file\n",
        "dataframes = {}\n",
        "\n",
        "for csv_file in csv_files:\n",
        "    # Extract the symbol name from the filename (remove '_hourly_ohlcv.csv')\n",
        "    symbol = csv_file.stem.replace('_hourly_ohlcv', '')\n",
        "    \n",
        "    # Read the CSV file\n",
        "    df = pd.read_csv(csv_file)\n",
        "    \n",
        "    # Parse the 'Open time' column as datetime\n",
        "    df['Open time'] = pd.to_datetime(df['Open time'])\n",
        "    \n",
        "    # Set the 'Open time' as the index\n",
        "    df.set_index('Open time', inplace=True)\n",
        "    \n",
        "    # Store the DataFrame in the dictionary\n",
        "    dataframes[symbol] = df\n",
        "    \n",
        "    print(f\"Loaded {symbol}: {len(df)} rows, {len(df.columns)} columns\")\n",
        "    print(f\"  Date range: {df.index.min()} to {df.index.max()}\")\n",
        "    print(f\"  Columns: {list(df.columns)}\")\n",
        "    print()\n"
      ]
    },
    {
      "cell_type": "code",
      "execution_count": 3,
      "metadata": {},
      "outputs": [
        {
          "name": "stdout",
          "output_type": "stream",
          "text": [
            "DataFrame Summary:\n",
            "==================================================\n"
          ]
        }
      ],
      "source": [
        "# Display basic information about each DataFrame\n",
        "print(\"DataFrame Summary:\")\n",
        "print(\"=\" * 50)\n",
        "\n",
        "for symbol, df in dataframes.items():\n",
        "    print(f\"\\n{symbol} DataFrame:\")\n",
        "    print(f\"  Shape: {df.shape}\")\n",
        "    print(f\"  Memory usage: {df.memory_usage(deep=True).sum() / 1024**2:.2f} MB\")\n",
        "    print(f\"  Data types:\")\n",
        "    for col, dtype in df.dtypes.items():\n",
        "        print(f\"    {col}: {dtype}\")\n",
        "    print(f\"  First few rows:\")\n",
        "    print(df.head(3))\n",
        "    print(\"-\" * 30)\n"
      ]
    },
    {
      "cell_type": "code",
      "execution_count": 6,
      "metadata": {},
      "outputs": [
        {
          "name": "stdout",
          "output_type": "stream",
          "text": [
            "Available symbols in dataframes dictionary:\n",
            "\n",
            "Total DataFrames created: 0\n"
          ]
        }
      ],
      "source": [
        "# Check what symbols are available in the dataframes dictionary\n",
        "print(\"Available symbols in dataframes dictionary:\")\n",
        "for symbol in dataframes.keys():\n",
        "    print(f\"  '{symbol}'\")\n",
        "\n",
        "print(f\"\\nTotal DataFrames created: {len(dataframes)}\")\n"
      ]
    },
    {
      "cell_type": "code",
      "execution_count": 5,
      "metadata": {},
      "outputs": [
        {
          "ename": "KeyError",
          "evalue": "'SPY'",
          "output_type": "error",
          "traceback": [
            "\u001b[31m---------------------------------------------------------------------------\u001b[39m",
            "\u001b[31mKeyError\u001b[39m                                  Traceback (most recent call last)",
            "\u001b[36mCell\u001b[39m\u001b[36m \u001b[39m\u001b[32mIn[5]\u001b[39m\u001b[32m, line 5\u001b[39m\n\u001b[32m      1\u001b[39m \u001b[38;5;66;03m# Access individual DataFrames\u001b[39;00m\n\u001b[32m      2\u001b[39m \u001b[38;5;66;03m# You can now access each DataFrame individually using the symbol name\u001b[39;00m\n\u001b[32m      3\u001b[39m \n\u001b[32m      4\u001b[39m \u001b[38;5;66;03m# Example: Access SPY data\u001b[39;00m\n\u001b[32m----> \u001b[39m\u001b[32m5\u001b[39m spy_data = \u001b[43mdataframes\u001b[49m\u001b[43m[\u001b[49m\u001b[33;43m'\u001b[39;49m\u001b[33;43mSPY\u001b[39;49m\u001b[33;43m'\u001b[39;49m\u001b[43m]\u001b[49m\n\u001b[32m      6\u001b[39m \u001b[38;5;28mprint\u001b[39m(\u001b[33m\"\u001b[39m\u001b[33mSPY DataFrame shape:\u001b[39m\u001b[33m\"\u001b[39m, spy_data.shape)\n\u001b[32m      7\u001b[39m \u001b[38;5;28mprint\u001b[39m(\u001b[33m\"\u001b[39m\u001b[38;5;130;01m\\n\u001b[39;00m\u001b[33mSPY recent data:\u001b[39m\u001b[33m\"\u001b[39m)\n",
            "\u001b[31mKeyError\u001b[39m: 'SPY'"
          ]
        }
      ],
      "source": [
        "# Access individual DataFrames\n",
        "# You can now access each DataFrame individually using the symbol name\n",
        "\n",
        "# Example: Access SPY data\n",
        "spy_data = dataframes['SPY']\n",
        "print(\"SPY DataFrame shape:\", spy_data.shape)\n",
        "print(\"\\nSPY recent data:\")\n",
        "print(spy_data.tail())\n",
        "\n",
        "# Example: Access QQQ data\n",
        "qqq_data = dataframes['QQQ']\n",
        "print(f\"\\nQQQ DataFrame shape: {qqq_data.shape}\")\n",
        "print(f\"QQQ latest close price: ${qqq_data['Close'].iloc[-1]:.2f}\")\n",
        "\n",
        "# Example: Check for missing values\n",
        "print(\"\\nMissing values check:\")\n",
        "for symbol, df in dataframes.items():\n",
        "    missing = df.isnull().sum().sum()\n",
        "    print(f\"  {symbol}: {missing} missing values\")\n"
      ]
    },
    {
      "cell_type": "markdown",
      "metadata": {},
      "source": [
        "\n"
      ]
    }
  ],
  "metadata": {
    "kernelspec": {
      "display_name": "Python 3",
      "language": "python",
      "name": "python3"
    },
    "language_info": {
      "codemirror_mode": {
        "name": "ipython",
        "version": 3
      },
      "file_extension": ".py",
      "mimetype": "text/x-python",
      "name": "python",
      "nbconvert_exporter": "python",
      "pygments_lexer": "ipython3",
      "version": "3.12.5"
    }
  },
  "nbformat": 4,
  "nbformat_minor": 2
}
