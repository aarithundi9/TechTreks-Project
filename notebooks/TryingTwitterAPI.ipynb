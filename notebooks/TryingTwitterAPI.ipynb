{
 "cells": [
  {
   "cell_type": "markdown",
   "id": "de6f8393",
   "metadata": {},
   "source": [
    "Code to set everything up and pull 10 posts"
   ]
  },
  {
   "cell_type": "code",
   "execution_count": 1,
   "id": "9081af7f",
   "metadata": {},
   "outputs": [
    {
     "name": "stdout",
     "output_type": "stream",
     "text": [
      "Found 10 tweets:\n",
      "\n",
      "[2025-10-20 23:38:03+00:00] You've been selected as one of the lucky winners on 𝕏 in our exclusive $1,000,000 giveaway! 🎉\n",
      "Tesla Car X Model 🎉\n",
      "Thank you for participating - your entry stood out among thousands!🍀\n",
      "To claim your share of the prize, simply \n",
      "\" FOLLOW ME TO PROCEED\" ✅ \n",
      "Signed,\n",
      "ELON MUSK ★ 🚀 https://t.co/zl1KXqfRFx\n",
      "\n",
      "[2025-10-20 23:38:02+00:00] @GC4497820232375 @zaggrim @DrewPavlou @Nguyen_anime3 He never mentions Mexico. If you don’t like Elon and Tesla pull up with a better option don’t destroy the Tesla. That’s the message. The metaphor is. “Third worlders” can’t build a first world country so they’d rather destroy them since it represents something superior to them.\n",
      "\n",
      "[2025-10-20 23:38:02+00:00] Gladly, you've been selected as one of the lucky fans!\n",
      "Comment \"YES\" to join the Tesla stock shares.\n",
      "\n",
      "Signed:\n",
      "ELON MUSK ★ https://t.co/3379JgVMU5\n",
      "\n",
      "[2025-10-20 23:37:57+00:00] Gladly, you've been selected as one of the lucky fans!\n",
      "Comment \"YES\" to join the Tesla stock shares.\n",
      "\n",
      "Signed:\n",
      "ELON MUSK ★ https://t.co/22QpIiVtBT\n",
      "\n",
      "[2025-10-20 23:37:57+00:00] @elonmusk @netcapgirl @Tesla u guys are behind the curve, I suggest you catch up. You'll be a little late to the party but your product will be greatly improved and you can still keep up. I suggest you have someone keep on top of the latest inventions. I'm too late in getting you this info. Sorry. https://t.co/BkIa3AUG8Q\n",
      "\n",
      "[2025-10-20 23:37:56+00:00] located in the constellation Bootes\n",
      "@SpaceX then Amilia s' Mom appears, two dogs. @ wataa @Ferrari @Tesla @Tesla_Optimus @Tesla_AI\n",
      "\n",
      "[2025-10-20 23:37:56+00:00] Hey! I want to send you something in your DMs. When you get a chance, follow me or drop me a message. Hope you have a fantastic day!\n",
      "\n",
      "Signed:\n",
      "TESLA &amp; ELON MUSK ★ https://t.co/8uQjT0Sbvg\n",
      "\n",
      "[2025-10-20 23:37:54+00:00] @ElectrekCo @FredericLambert You get what you're worth. Elon has literally made Tesla a product to follow.\n",
      "\n",
      "His last package was stolen. This is what he requires to stay with that removed.\n",
      "\n",
      "[2025-10-20 23:37:51+00:00] Gladly, you've been selected as one of the lucky fans!\n",
      "Comment \"YES\" to join the Tesla stock shares.\n",
      "\n",
      "Signed:\n",
      "ELON MUSK ★ https://t.co/LKgsCfjhmY\n",
      "\n",
      "[2025-10-20 23:37:49+00:00] @suvratkothari @Tesla @AWS @elonmusk Multiple users report Tesla app outages today, aligning with the major AWS disruption affecting login, charging, and connectivity. Tesla's backend partially uses AWS for services like data uploads, so recovery depends on AWS stabilization, which is underway. Check Tesla's status\n",
      "\n"
     ]
    }
   ],
   "source": [
    "import tweepy\n",
    "\n",
    "# --- Replace this with your actual bearer token ---\n",
    "BEARER_TOKEN = \"AAAAAAAAAAAAAAAAAAAAAGy%2B4gEAAAAAFXE%2Fx%2FlJjKHYMNdzPjF7avBZUz4%3DRnFOWb39HqmdNVRlvPkCJn0xTPKe7TbPpM2M2YaFyIaxIqDpdw\"\n",
    "\n",
    "# Initialize Tweepy client\n",
    "client = tweepy.Client(bearer_token=BEARER_TOKEN, wait_on_rate_limit=True)\n",
    "\n",
    "# --- Your search query ---\n",
    "# Try changing this to whatever topic you want (e.g., \"climate change\", \"stocks\", \"Scotiabank LATAM\")\n",
    "query = \"tesla -is:retweet lang:en\"\n",
    "\n",
    "# Pull 10 recent tweets that match the query\n",
    "response = client.search_recent_tweets(\n",
    "    query=query,\n",
    "    max_results=10,  # between 10 and 100\n",
    "    tweet_fields=[\"id\", \"text\", \"created_at\", \"public_metrics\", \"lang\"]\n",
    ")\n",
    "\n",
    "# --- Print tweets nicely ---\n",
    "if response.data:\n",
    "    print(f\"Found {len(response.data)} tweets:\\n\")\n",
    "    for tweet in response.data:\n",
    "        print(f\"[{tweet.created_at}] {tweet.text}\\n\")\n",
    "else:\n",
    "    print(\"No tweets found for this query.\")\n"
   ]
  }
 ],
 "metadata": {
  "kernelspec": {
   "display_name": "Python 3",
   "language": "python",
   "name": "python3"
  },
  "language_info": {
   "codemirror_mode": {
    "name": "ipython",
    "version": 3
   },
   "file_extension": ".py",
   "mimetype": "text/x-python",
   "name": "python",
   "nbconvert_exporter": "python",
   "pygments_lexer": "ipython3",
   "version": "3.11.9"
  }
 },
 "nbformat": 4,
 "nbformat_minor": 5
}
